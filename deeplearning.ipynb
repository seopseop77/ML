{
  "nbformat": 4,
  "nbformat_minor": 0,
  "metadata": {
    "colab": {
      "provenance": [],
      "authorship_tag": "ABX9TyNaAkSGY3TJuX6UQLu9joL4",
      "include_colab_link": true
    },
    "kernelspec": {
      "name": "python3",
      "display_name": "Python 3"
    },
    "language_info": {
      "name": "python"
    }
  },
  "cells": [
    {
      "cell_type": "markdown",
      "metadata": {
        "id": "view-in-github",
        "colab_type": "text"
      },
      "source": [
        "<a href=\"https://colab.research.google.com/github/seopseop77/ML/blob/main/deeplearning.ipynb\" target=\"_parent\"><img src=\"https://colab.research.google.com/assets/colab-badge.svg\" alt=\"Open In Colab\"/></a>"
      ]
    },
    {
      "cell_type": "code",
      "execution_count": null,
      "metadata": {
        "id": "7Jbbj0nhhb75"
      },
      "outputs": [],
      "source": [
        "import math \n",
        "import random "
      ]
    },
    {
      "cell_type": "code",
      "source": [
        "a = random.uniform(-1,1)\n",
        "b = random.uniform(-1,1)\n",
        "c = random.uniform(-1,1)\n",
        "d = random.uniform(-1,1)\n",
        "e = random.uniform(-1,1)\n",
        "f = random.uniform(-1,1)\n",
        "g = random.uniform(-1,1)\n",
        "h = random.uniform(-1,1)\n",
        "i = random.uniform(-1,1)\n",
        "\n",
        "eta = 0.0001"
      ],
      "metadata": {
        "id": "fZ4JbxAniIFe"
      },
      "execution_count": 15,
      "outputs": []
    },
    {
      "cell_type": "code",
      "source": [
        "def sigmoid(x):\n",
        "  return 1.0 / (1.0+math.exp(-x))"
      ],
      "metadata": {
        "id": "ueveMoL6iTbG"
      },
      "execution_count": 16,
      "outputs": []
    },
    {
      "cell_type": "code",
      "source": [
        "def relu(x):\n",
        "  return max(0,0,x)\n",
        "\n",
        "def relu_prime(x):\n",
        "  return 0 if x < 0 else 1"
      ],
      "metadata": {
        "id": "nXfpMo9Q7E2f"
      },
      "execution_count": 22,
      "outputs": []
    },
    {
      "cell_type": "code",
      "source": [
        "def tanh(x):\n",
        "  return (math.exp(x)-math.exp(-x)) / (math.exp(x)+math.exp(-x)) \n",
        "\n",
        "def tanh_prime(x):\n",
        "  return (1-tanh(x))*(1+tanh(x))"
      ],
      "metadata": {
        "id": "z2DGz5qp87nL"
      },
      "execution_count": 28,
      "outputs": []
    },
    {
      "cell_type": "code",
      "source": [
        "data = [(5,10),(7,18),(10,8),(15,15),(20,3),(23,12)]\n",
        "labels = [-1,-1,+1,+1,-1,-1]"
      ],
      "metadata": {
        "id": "3rABg7ejieyD"
      },
      "execution_count": 17,
      "outputs": []
    },
    {
      "cell_type": "code",
      "source": [
        "\n",
        "FinalzValue=[0, 0, 0, 0, 0, 0]"
      ],
      "metadata": {
        "id": "Q2-xZyOf3Mjw"
      },
      "execution_count": 18,
      "outputs": []
    },
    {
      "cell_type": "code",
      "source": [
        "# sigmoid 함수 \n",
        "\n",
        "for counter in range(100000):\n",
        "  da=db=dc=de=dd=df=dg=dh=di=0.0\n",
        "  for idx in range(len(data)):\n",
        "    x = float(data[idx][0])\n",
        "    y = float(data[idx][1])\n",
        "    z1 = a*x + b*y + c\n",
        "    X = sigmoid(z1)\n",
        "    z2=d*x+e*y+f\n",
        "    Y=sigmoid(z2)\n",
        "    z=g*X+h*Y+i\n",
        "\n",
        "    Z=labels[idx]\n",
        "    dz=2*(z-Z)\n",
        "    dz1=dz*g*sigmoid(z1)*(1.0-sigmoid(z1))\n",
        "    dz2=dz*h*sigmoid(z2)*(1.0-sigmoid(z2))\n",
        "    da+=dz1*x\n",
        "    db+=dz1*y\n",
        "    dc+=dz1\n",
        "    dd+=dz2*x\n",
        "    de+=dz2*y\n",
        "    df+=dz2\n",
        "    dg+=dz*X\n",
        "    dh+=dz*Y\n",
        "    di+=dz\n",
        "\n",
        "  a = a-eta*da\n",
        "  b = b-eta*db\n",
        "  c = c-eta*dc\n",
        "  d = d-eta*dd\n",
        "  e = e-eta*de\n",
        "  f = f-eta*df\n",
        "  g = g-eta*dg\n",
        "  h = h-eta*dh\n",
        "  i = i-eta*di\n",
        "print(\"a=%lf, b=%lf, c=%lf, d=%lf, e=%lf, f=%lf, g=%lf, h=%lf, i=%lf\" %(a, b, c, d, e, f, g, h, i))\n",
        "\n",
        "for idx in range(len(data)):\n",
        "  x = float(data[idx][0])\n",
        "  y = float(data[idx][1])\n",
        "  FinalzValue[idx] = g*sigmoid(a*x+b*y+c)+h*sigmoid(d*x+e*y+f)+i\n",
        "\n",
        "\n",
        "print(FinalzValue)"
      ],
      "metadata": {
        "colab": {
          "base_uri": "https://localhost:8080/"
        },
        "id": "JLD6c-Xg2e9l",
        "outputId": "b3c9045a-fd6d-47b0-a418-a310bdfb13bb"
      },
      "execution_count": 20,
      "outputs": [
        {
          "output_type": "stream",
          "name": "stdout",
          "text": [
            "a=-1.026419, b=1.587845, c=-0.002630, d=-1.264612, e=1.099344, f=0.376480, g=2.257151, h=-2.252572, i=-1.011080\n",
            "[-0.9921591283938866, -1.0064732367627451, 0.9967757016068606, 1.0003788725480298, -1.0110800108778608, -0.987620786849648]\n"
          ]
        }
      ]
    },
    {
      "cell_type": "code",
      "source": [
        "# ReLU 함수 \n",
        "\n",
        "for counter in range(100000):\n",
        "  da=db=dc=de=dd=df=dg=dh=di=0.0\n",
        "  for idx in range(len(data)):\n",
        "    x = float(data[idx][0])\n",
        "    y = float(data[idx][1])\n",
        "    z1 = a*x + b*y + c\n",
        "    X = relu(z1)\n",
        "    z2=d*x+e*y+f\n",
        "    Y=relu(z2)\n",
        "    z=g*X+h*Y+i\n",
        "\n",
        "    Z=labels[idx]\n",
        "    dz=2*(z-Z)\n",
        "    dz1=dz*g*relu_prime(z1)\n",
        "    dz2=dz*h*relu_prime(z2)\n",
        "    da+=dz1*x\n",
        "    db+=dz1*y\n",
        "    dc+=dz1\n",
        "    dd+=dz2*x\n",
        "    de+=dz2*y\n",
        "    df+=dz2\n",
        "    dg+=dz*X\n",
        "    dh+=dz*Y\n",
        "    di+=dz\n",
        "\n",
        "  a = a-eta*da\n",
        "  b = b-eta*db\n",
        "  c = c-eta*dc\n",
        "  d = d-eta*dd\n",
        "  e = e-eta*de\n",
        "  f = f-eta*df\n",
        "  g = g-eta*dg\n",
        "  h = h-eta*dh\n",
        "  i = i-eta*di\n",
        "print(\"a=%lf, b=%lf, c=%lf, d=%lf, e=%lf, f=%lf, g=%lf, h=%lf, i=%lf\" %(a, b, c, d, e, f, g, h, i))\n",
        "\n",
        "for idx in range(len(data)):\n",
        "  x = float(data[idx][0])\n",
        "  y = float(data[idx][1])\n",
        "  FinalzValue[idx] = g*relu(a*x+b*y+c)+h*relu(d*x+e*y+f)+i\n",
        "\n",
        "\n",
        "print(FinalzValue)"
      ],
      "metadata": {
        "colab": {
          "base_uri": "https://localhost:8080/"
        },
        "id": "upNTAbj52lTR",
        "outputId": "5a1fac9e-14e5-4322-bf2c-b767bec1b2e1"
      },
      "execution_count": 26,
      "outputs": [
        {
          "output_type": "stream",
          "name": "stdout",
          "text": [
            "a=-1.232502, b=1.284292, c=-0.090647, d=-1.242930, e=1.216117, f=0.456489, g=2.124305, h=-2.290381, i=-0.333333\n",
            "[-0.9999999999999278, -1.0000000000000344, -0.3333333333333702, 1.0000000000000109, -0.3333333333333702, -0.3333333333333702]\n"
          ]
        }
      ]
    },
    {
      "cell_type": "code",
      "source": [
        "# tanh 함수 \n",
        "\n",
        "for counter in range(100000):\n",
        "  da=db=dc=de=dd=df=dg=dh=di=0.0\n",
        "  for idx in range(len(data)):\n",
        "    x = float(data[idx][0])\n",
        "    y = float(data[idx][1])\n",
        "    z1 = a*x + b*y + c\n",
        "    X = tanh(z1)\n",
        "    z2=d*x+e*y+f\n",
        "    Y=tanh(z2)\n",
        "    z=g*X+h*Y+i\n",
        "\n",
        "    Z=labels[idx]\n",
        "    dz=2*(z-Z)\n",
        "    dz1=dz*g*tanh_prime(z1)\n",
        "    dz2=dz*h*tanh_prime(z2)\n",
        "    da+=dz1*x\n",
        "    db+=dz1*y\n",
        "    dc+=dz1\n",
        "    dd+=dz2*x\n",
        "    de+=dz2*y\n",
        "    df+=dz2\n",
        "    dg+=dz*X\n",
        "    dh+=dz*Y\n",
        "    di+=dz\n",
        "\n",
        "  a = a-eta*da\n",
        "  b = b-eta*db\n",
        "  c = c-eta*dc\n",
        "  d = d-eta*dd\n",
        "  e = e-eta*de\n",
        "  f = f-eta*df\n",
        "  g = g-eta*dg\n",
        "  h = h-eta*dh\n",
        "  i = i-eta*di\n",
        "print(\"a=%lf, b=%lf, c=%lf, d=%lf, e=%lf, f=%lf, g=%lf, h=%lf, i=%lf\" %(a, b, c, d, e, f, g, h, i))\n",
        "\n",
        "for idx in range(len(data)):\n",
        "  x = float(data[idx][0])\n",
        "  y = float(data[idx][1])\n",
        "  FinalzValue[idx] = g*tanh(a*x+b*y+c)+h*tanh(d*x+e*y+f)+i\n",
        "\n",
        "\n",
        "print(FinalzValue)"
      ],
      "metadata": {
        "colab": {
          "base_uri": "https://localhost:8080/"
        },
        "id": "3W9E2BnR9drC",
        "outputId": "a091e54f-8485-4fca-b157-b5a1a50efe9e"
      },
      "execution_count": 29,
      "outputs": [
        {
          "output_type": "stream",
          "name": "stdout",
          "text": [
            "a=-1.105946, b=1.383183, c=-0.077599, d=-1.245674, e=1.221617, f=0.454937, g=2.208439, h=-2.208442, i=-1.000003\n",
            "[-0.9999945611314214, -1.0000054388400526, 0.9999999999988796, 0.9999999999721543, -1.0000000397708857, -0.9999999602285676]\n"
          ]
        }
      ]
    }
  ]
}